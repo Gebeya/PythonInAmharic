{
 "cells": [
  {
   "cell_type": "markdown",
   "metadata": {},
   "source": [
    "#### የውህብ አይነት ፤ ሐረግ\n",
    "\n",
    "- የሆሄ/ፊደል ስብስብ (aA-zZ , 0-9, ! ,#,?...)"
   ]
  },
  {
   "cell_type": "markdown",
   "metadata": {},
   "source": [
    "- በፓይተን ሐረግ ለመፍጠር “...” ወይም ‘...’ መጠቀም ይቻላል\n"
   ]
  },
  {
   "cell_type": "code",
   "execution_count": null,
   "metadata": {},
   "outputs": [],
   "source": [
    "\"Abebe Beso Bela!\""
   ]
  },
  {
   "cell_type": "markdown",
   "metadata": {},
   "source": [
    "- በ “...” እና ‘...’ የተፈጠረ ሐረግ ዋጋው እኩል ነው"
   ]
  },
  {
   "cell_type": "code",
   "execution_count": null,
   "metadata": {},
   "outputs": [],
   "source": [
    "\"Abebe\" == 'Abebe'"
   ]
  },
  {
   "cell_type": "markdown",
   "metadata": {},
   "source": [
    "- String Escape Sequence : __[በሐረግ ውስጥ ልዪ ትርጉም ያላቸው](https://docs.python.org/3.7/reference/lexical_analysis.html#literals)__ "
   ]
  },
  {
   "cell_type": "code",
   "execution_count": null,
   "metadata": {},
   "outputs": [],
   "source": [
    "a = \"This is the first line\\nThis is the second line.\"\n",
    "print(a)"
   ]
  },
  {
   "cell_type": "markdown",
   "metadata": {},
   "source": [
    "-  Raw strings (r’...’) : በ\\ የሚጀምሩ ሆሄዎች ልዩ ትርጉም እንዳይኖራቸው ለማድረግ ። ሐረግ እንደ ወረደ (String Literal)! "
   ]
  },
  {
   "cell_type": "code",
   "execution_count": null,
   "metadata": {},
   "outputs": [],
   "source": [
    "b = r'This is the first line\\nThis is the second line.'\n",
    "print(b)"
   ]
  },
  {
   "cell_type": "markdown",
   "metadata": {},
   "source": [
    "- ከአንድ መስመር በላይ ለሆኑ String Literals “ሐረግ እንደ ወረደ” ፦ “””...”””  ወይም ‘’’....’’’ እንጠቀማለን"
   ]
  },
  {
   "cell_type": "code",
   "execution_count": null,
   "metadata": {},
   "outputs": [],
   "source": [
    "c = '''First Line\n",
    "Second Line\n",
    "Third Line'''\n",
    "print(c)"
   ]
  },
  {
   "cell_type": "markdown",
   "metadata": {},
   "source": [
    "- \"+\" ሐረጎች ለመቀጣጠል  ፣ \"*\" ሐረግ ለመደጋገም"
   ]
  },
  {
   "cell_type": "code",
   "execution_count": null,
   "metadata": {},
   "outputs": [],
   "source": [
    "\"Abebe\" + \"Beso\" + \"Bela\""
   ]
  },
  {
   "cell_type": "code",
   "execution_count": null,
   "metadata": {},
   "outputs": [],
   "source": [
    "\"Abebe\"*10"
   ]
  },
  {
   "cell_type": "markdown",
   "metadata": {},
   "source": [
    "- ሁለት “ሐረግ እንደ ወረደ” ጎን ለጎን በማድረግ መቀጣጠል ይቻላል "
   ]
  },
  {
   "cell_type": "code",
   "execution_count": null,
   "metadata": {},
   "outputs": [],
   "source": [
    "\"Py\" \"thon\""
   ]
  },
  {
   "cell_type": "markdown",
   "metadata": {},
   "source": [
    "- ሐረግ ውስጥ ያሉ ሆሄዎች index (ጠቋሚ) አላቸው ። ጠቋሚ የሚጀምረው በ 0 ፣ ከመጀመሪያው ሆሄ ፤ ሐረግ[0]\t"
   ]
  },
  {
   "cell_type": "code",
   "execution_count": null,
   "metadata": {},
   "outputs": [],
   "source": [
    "a = \"Python\"\n",
    "print(a[1])"
   ]
  },
  {
   "cell_type": "markdown",
   "metadata": {},
   "source": [
    "- ጠቋሚን በመጠቀም ሐረግን መካፋፈል (Slicing Strings) ፤ ሐረግ[0፡2] ፤ ሐረግ[1፡] ፤ ሐረግ[፡2] ፤ ሐረግ[-1]"
   ]
  },
  {
   "cell_type": "code",
   "execution_count": null,
   "metadata": {},
   "outputs": [],
   "source": [
    "b = a[2:]\n",
    "print(b)"
   ]
  },
  {
   "cell_type": "markdown",
   "metadata": {},
   "source": [
    "- IndexError: string index out of range"
   ]
  },
  {
   "cell_type": "code",
   "execution_count": null,
   "metadata": {},
   "outputs": [],
   "source": [
    "c = a[9]"
   ]
  },
  {
   "cell_type": "markdown",
   "metadata": {},
   "source": [
    "- Python strings are immutable (ሐረግ አይቀየርም)"
   ]
  },
  {
   "cell_type": "code",
   "execution_count": null,
   "metadata": {},
   "outputs": [],
   "source": [
    "a[0] = \"Q\""
   ]
  },
  {
   "cell_type": "markdown",
   "metadata": {},
   "source": [
    "- የሐረግ ርዝመት ፤ len() function"
   ]
  },
  {
   "cell_type": "code",
   "execution_count": null,
   "metadata": {},
   "outputs": [],
   "source": [
    "len(a)"
   ]
  },
  {
   "cell_type": "markdown",
   "metadata": {},
   "source": [
    "- ስለሐረግ ተጨማሪ ፤ https://docs.python.org/3/tutorial/introduction.html#strings"
   ]
  },
  {
   "cell_type": "code",
   "execution_count": null,
   "metadata": {},
   "outputs": [],
   "source": []
  }
 ],
 "metadata": {
  "kernelspec": {
   "display_name": "Python 3",
   "language": "python",
   "name": "python3"
  },
  "language_info": {
   "codemirror_mode": {
    "name": "ipython",
    "version": 3
   },
   "file_extension": ".py",
   "mimetype": "text/x-python",
   "name": "python",
   "nbconvert_exporter": "python",
   "pygments_lexer": "ipython3",
   "version": "3.7.0"
  }
 },
 "nbformat": 4,
 "nbformat_minor": 2
}
